{
 "cells": [
  {
   "cell_type": "markdown",
   "metadata": {},
   "source": [
    "# Helper Methods/Data"
   ]
  },
  {
   "cell_type": "code",
   "execution_count": 1,
   "metadata": {},
   "outputs": [],
   "source": [
    "month_lens = [31, 28, 31, 30, 31, 30, 31, 31, 30, 31, 30, 31]"
   ]
  },
  {
   "cell_type": "code",
   "execution_count": 2,
   "metadata": {},
   "outputs": [],
   "source": [
    "def get_current_date():\n",
    "    import time\n",
    "    current_time = time.localtime()\n",
    "    return [current_time.tm_year, current_time.tm_mon, current_time.tm_mday]"
   ]
  },
  {
   "cell_type": "code",
   "execution_count": 3,
   "metadata": {},
   "outputs": [],
   "source": [
    "def days_difference(date1, date2):\n",
    "    if date1[1] == date2[1] and date1[2] <= date2[2]:\n",
    "        return date2[2] - date1[2]\n",
    "    \n",
    "    ret = 0\n",
    "    checked = False\n",
    "    while not checked or date1[1] != date2[1]:\n",
    "        ret += month_lens[date1[1]-1]\n",
    "        if date1[1] == 2 and date1[0] % 4 == 0:\n",
    "            ret += 1\n",
    "        date1[1] = (date1[1] % 12) + 1\n",
    "        if date1[1] == 1:\n",
    "            date1[0] += 1\n",
    "        checked = True\n",
    "    return ret + date2[2] - date1[2]"
   ]
  },
  {
   "cell_type": "code",
   "execution_count": 4,
   "metadata": {},
   "outputs": [],
   "source": [
    "def days_until_birthday(name, birthday_str):\n",
    "    today = get_current_date()\n",
    "    birthday_parts = birthday_str.split(\"-\")\n",
    "    birthday = [int(birthday_parts[0]), int(birthday_parts[1]), int(birthday_parts[2])]\n",
    "\n",
    "    if birthday[1] < today[1] or (birthday[1] == today[1] and birthday[2] < today[2]):\n",
    "        next_birthday = [today[0], birthday[1], birthday[2]]\n",
    "    else:\n",
    "        next_birthday = [today[0] + 1, birthday[1], birthday[2]]\n",
    "\n",
    "    days_until = days_difference(today, next_birthday)\n",
    "    return days_until"
   ]
  },
  {
   "cell_type": "markdown",
   "metadata": {},
   "source": [
    "# Main Program"
   ]
  },
  {
   "cell_type": "code",
   "execution_count": 5,
   "metadata": {},
   "outputs": [
    {
     "name": "stdout",
     "output_type": "stream",
     "text": [
      "Hello, Riley! Your birthday is in 2 days.\n"
     ]
    }
   ],
   "source": [
    "name = input(\"Enter your name: \")\n",
    "birthday_str = input(\"Enter your birthday (YYYY-MM-DD): \")\n",
    "\n",
    "days = days_until_birthday(name, birthday_str)\n",
    "if days == 0:\n",
    "    print(f\"Happy Birthday, {name}!\")\n",
    "else:\n",
    "    print(\"Hello,\", name + \"! Your birthday is in\", days, \"days.\")"
   ]
  }
 ],
 "metadata": {
  "kernelspec": {
   "display_name": "Python 3",
   "language": "python",
   "name": "python3"
  },
  "language_info": {
   "codemirror_mode": {
    "name": "ipython",
    "version": 3
   },
   "file_extension": ".py",
   "mimetype": "text/x-python",
   "name": "python",
   "nbconvert_exporter": "python",
   "pygments_lexer": "ipython3",
   "version": "3.10.12"
  }
 },
 "nbformat": 4,
 "nbformat_minor": 4
}
