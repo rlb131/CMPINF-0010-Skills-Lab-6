{
 "cells": [
  {
   "cell_type": "code",
   "execution_count": null,
   "metadata": {},
   "outputs": [],
   "source": [
    "def get_current_date():\n",
    "import time\n",
    "current_time = time.localtime()\n",
    "return (current_time.tm_year, current_time.tm_mon, current_time.tm_mday)"
   ]
  },
  {
   "cell_type": "code",
   "execution_count": null,
   "metadata": {},
   "outputs": [],
   "source": [
    "def days_difference(date1, date2):\n",
    "days1 = date1[0] * 365 + date1[1] * 30 + date1[2]\n",
    "days2 = date2[0] * 365 + date2[1] * 30 + date2[2]\n",
    "return abs(days1 - days2)"
   ]
  },
  {
   "cell_type": "code",
   "execution_count": null,
   "metadata": {},
   "outputs": [],
   "source": [
    "def days_until_birthday(name, birthday_str):\n",
    "today = get_current_date()\n",
    "birthday_parts = birthday_str.split(\"-\")\n",
    "birthday = (int(birthday_parts[0]), int(birthday_parts[1]), int(birthday_parts[2]))\n",
    "\n",
    "if birthday < (today[0], today[1], today[2]):\n",
    "    birthday = (today[0] + 1, birthday[1], birthday[2])\n",
    "\n",
    "days_until = days_difference(birthday, (today[0], today[1], today[2]))\n",
    "return days_until"
   ]
  },
  {
   "cell_type": "code",
   "execution_count": null,
   "metadata": {},
   "outputs": [],
   "source": [
    "\n",
    "name = input(\"Enter your name: \")\n",
    "birthday_str = input(\"Enter your birthday (YYYY-MM-DD): \")\n",
    "\n",
    "days = days_until_birthday(name, birthday_str)\n",
    "if days == 0:\n",
    "    print(\"Happy Birthday,\", name, \"!\")\n",
    "else:\n",
    "    print(\"Hello,\", name + \"! Your birthday is in\", days, \"days.\")"
   ]
  }
 ],
 "metadata": {
  "kernelspec": {
   "display_name": "Python 3",
   "language": "python",
   "name": "python3"
  },
  "language_info": {
   "codemirror_mode": {
    "name": "ipython",
    "version": 3
   },
   "file_extension": ".py",
   "mimetype": "text/x-python",
   "name": "python",
   "nbconvert_exporter": "python",
   "pygments_lexer": "ipython3",
   "version": "3.8.3"
  }
 },
 "nbformat": 4,
 "nbformat_minor": 4
}
